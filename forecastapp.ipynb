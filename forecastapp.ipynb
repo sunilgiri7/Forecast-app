{
 "cells": [
  {
   "cell_type": "code",
   "execution_count": 16,
   "id": "9ac83fb0",
   "metadata": {
    "tags": []
   },
   "outputs": [
    {
     "name": "stderr",
     "output_type": "stream",
     "text": [
      "[NbConvertApp] Converting notebook forecastapp.ipynb to script\n",
      "[NbConvertApp] Writing 944 bytes to forecastapp.py\n"
     ]
    }
   ],
   "source": [
    "!jupyter nbconvert --to script forecastapp.ipynb"
   ]
  },
  {
   "cell_type": "code",
   "execution_count": 32,
   "id": "97645655",
   "metadata": {
    "tags": []
   },
   "outputs": [
    {
     "name": "stderr",
     "output_type": "stream",
     "text": [
      "Traceback (most recent call last):\n",
      "  File \"C:\\Users\\ASUS\\miniconda3\\envs\\stan_env\\lib\\runpy.py\", line 193, in _run_module_as_main\n",
      "    \"__main__\", mod_spec)\n",
      "  File \"C:\\Users\\ASUS\\miniconda3\\envs\\stan_env\\lib\\runpy.py\", line 85, in _run_code\n",
      "    exec(code, run_globals)\n",
      "  File \"C:\\Users\\ASUS\\miniconda3\\envs\\stan_env\\Scripts\\streamlit.exe\\__main__.py\", line 4, in <module>\n",
      "ModuleNotFoundError: No module named 'streamlit.web.cli'\n"
     ]
    }
   ],
   "source": [
    "import streamlit as st\n",
    "!streamlit run forecastapp.py"
   ]
  },
  {
   "cell_type": "code",
   "execution_count": null,
   "id": "293e21d6",
   "metadata": {},
   "outputs": [],
   "source": []
  }
 ],
 "metadata": {
  "kernelspec": {
   "display_name": "stan_env",
   "language": "python",
   "name": "stan_env"
  },
  "language_info": {
   "codemirror_mode": {
    "name": "ipython",
    "version": 3
   },
   "file_extension": ".py",
   "mimetype": "text/x-python",
   "name": "python",
   "nbconvert_exporter": "python",
   "pygments_lexer": "ipython3",
   "version": "3.7.16"
  }
 },
 "nbformat": 4,
 "nbformat_minor": 5
}
