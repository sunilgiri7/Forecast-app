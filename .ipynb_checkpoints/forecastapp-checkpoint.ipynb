{
 "cells": [
  {
   "cell_type": "code",
   "execution_count": 26,
   "id": "dbd2d51d",
   "metadata": {},
   "outputs": [],
   "source": [
    "import pystan\n",
    "import pandas as pd\n",
    "import numpy as np\n",
    "import matplotlib.pyplot as plt\n",
    "import streamlit as st\n",
    "from streamlit import cache\n",
    "import json\n",
    "import holidays"
   ]
  },
  {
   "cell_type": "code",
   "execution_count": 27,
   "id": "c8d8d890",
   "metadata": {},
   "outputs": [],
   "source": [
    "import prophet\n",
    "from prophet.plot import add_changepoints_to_plot\n",
    "from prophet.diagnostics import cross_validation\n",
    "from prophet.diagnostics import performance_metrics\n",
    "from prophet.plot import plot_cross_validation_metric\n",
    "from prophet.serialize import model_to_json, model_from_json"
   ]
  },
  {
   "cell_type": "code",
   "execution_count": 28,
   "id": "b8f0b146",
   "metadata": {},
   "outputs": [],
   "source": [
    "import altair as alt\n",
    "import plotly as plt\n",
    "import plotly.offline as pyoff\n",
    "import plotly.graph_objs as go\n",
    "import plotly.figure_factory as ff\n",
    "import base64\n",
    "import itertools\n",
    "from datetime import datetime"
   ]
  },
  {
   "cell_type": "code",
   "execution_count": 29,
   "id": "e78971e7",
   "metadata": {},
   "outputs": [],
   "source": [
    "st.set_page_config(page_title=\"Forecast_App\",\n",
    "                  initial_sidebar_state='collapsed',\n",
    "                  page_icon=\"🔮\")"
   ]
  },
  {
   "cell_type": "code",
   "execution_count": 31,
   "id": "bc2389b5",
   "metadata": {},
   "outputs": [
    {
     "name": "stderr",
     "output_type": "stream",
     "text": [
      "Usage: streamlit run [OPTIONS] TARGET [ARGS]...\n",
      "Try 'streamlit run --help' for help.\n",
      "\n",
      "Error: Streamlit requires raw Python (.py) files, not .ipynb.\n",
      "For more information, please see https://docs.streamlit.io\n"
     ]
    }
   ],
   "source": [
    "!streamlit run forecastapp.ipynb"
   ]
  },
  {
   "cell_type": "code",
   "execution_count": 24,
   "id": "9ac83fb0",
   "metadata": {},
   "outputs": [
    {
     "name": "stderr",
     "output_type": "stream",
     "text": [
      "[NbConvertApp] Converting notebook forecastapp.ipynb to script\n",
      "[NbConvertApp] Writing 983 bytes to forecastapp.py\n"
     ]
    }
   ],
   "source": [
    "!jupyter nbconvert --to script forecastapp.ipynb"
   ]
  },
  {
   "cell_type": "code",
   "execution_count": 32,
   "id": "97645655",
   "metadata": {},
   "outputs": [
    {
     "name": "stdout",
     "output_type": "stream",
     "text": [
      "^C\n"
     ]
    }
   ],
   "source": [
    "!streamlit run forecastapp.py"
   ]
  },
  {
   "cell_type": "code",
   "execution_count": null,
   "id": "2ef3d44e",
   "metadata": {},
   "outputs": [],
   "source": []
  }
 ],
 "metadata": {
  "kernelspec": {
   "display_name": "stan_env",
   "language": "python",
   "name": "stan_env"
  },
  "language_info": {
   "codemirror_mode": {
    "name": "ipython",
    "version": 3
   },
   "file_extension": ".py",
   "mimetype": "text/x-python",
   "name": "python",
   "nbconvert_exporter": "python",
   "pygments_lexer": "ipython3",
   "version": "3.7.16"
  }
 },
 "nbformat": 4,
 "nbformat_minor": 5
}
